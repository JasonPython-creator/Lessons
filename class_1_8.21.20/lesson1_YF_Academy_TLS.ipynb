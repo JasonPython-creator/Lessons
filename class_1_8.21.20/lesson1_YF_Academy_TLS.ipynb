{
 "cells": [
  {
   "cell_type": "markdown",
   "metadata": {},
   "source": [
    "## What You'll Learn: Compute with Turtles"
   ]
  },
  {
   "cell_type": "markdown",
   "metadata": {},
   "source": [
    "A turtle here is not an animal. We are working with a virtual turtle, an idea that dates back to the 1960’s. The original\n",
    "robot turtle had a physical pen in it. The student-programmers would steer the robot around using programs, and \n",
    "create drawings with the pen.\n",
    "\n",
    "Today, we can play with virtual turtles in a fully-graphical and non-robotic way. Below is a Python program that first\n",
    "reads in a library that contains the code to let us work with turtles (from turtle import *). Then it creates a Screen, \n",
    "a space on the page for the turtle to move in and draw on (space = Screen()). Next it creates a turtle named alex\n",
    "(alex = Turtle()), then has alex move around on the screen (alex.forward(150)) and when it moves it will draw. The part of\n",
    "any line that starts with a # character is called a comment. Python and the computer ignores everything from the # \n",
    "character to the end of the line. Comments explain what we’re doing in the programs and are intended to be read by \n",
    "people, not computers."
   ]
  },
  {
   "cell_type": "code",
   "execution_count": null,
   "metadata": {},
   "outputs": [],
   "source": [
    "#pip install ipyturtle$ jupyter nbextension enable --py --sys-prefix ipyturtle"
   ]
  },
  {
   "cell_type": "markdown",
   "metadata": {},
   "source": [
    "### Overview of Python & Jupyter"
   ]
  },
  {
   "cell_type": "markdown",
   "metadata": {},
   "source": [
    "#### Install Packages & Import Libraries\n",
    "- What are the differences between packages and libraries?\n",
    "- How are installing and importing different?\n",
    "- Why are packages and libraries important/useful?"
   ]
  },
  {
   "cell_type": "code",
   "execution_count": null,
   "metadata": {},
   "outputs": [],
   "source": [
    "pip install mobilechelonian"
   ]
  },
  {
   "cell_type": "code",
   "execution_count": null,
   "metadata": {},
   "outputs": [],
   "source": [
    "from mobilechelonian import Turtle"
   ]
  },
  {
   "cell_type": "markdown",
   "metadata": {},
   "source": [
    "#### The Python Language:\n",
    "- Interpretive vs. compiled\n",
    "- datatypes\n",
    "- syntax"
   ]
  },
  {
   "cell_type": "code",
   "execution_count": null,
   "metadata": {},
   "outputs": [],
   "source": [
    "x = 'hello'\n",
    "print(x)\n",
    "print(type(x))"
   ]
  },
  {
   "cell_type": "code",
   "execution_count": null,
   "metadata": {},
   "outputs": [],
   "source": [
    "x = 2\n",
    "print(x)\n",
    "print(type(x))"
   ]
  },
  {
   "cell_type": "code",
   "execution_count": null,
   "metadata": {},
   "outputs": [],
   "source": [
    "x = 2.0\n",
    "print(x)\n",
    "print(type(x))"
   ]
  },
  {
   "cell_type": "code",
   "execution_count": null,
   "metadata": {},
   "outputs": [],
   "source": [
    "x = []\n",
    "print(x)\n",
    "print(type(x))"
   ]
  },
  {
   "cell_type": "code",
   "execution_count": null,
   "metadata": {},
   "outputs": [],
   "source": [
    "y = [1, 2, 3]\n",
    "print(y)\n",
    "print(type(y))"
   ]
  },
  {
   "cell_type": "code",
   "execution_count": null,
   "metadata": {},
   "outputs": [],
   "source": [
    "x = ['1','2','3']\n",
    "print(x)\n",
    "print(type(x))"
   ]
  },
  {
   "cell_type": "code",
   "execution_count": null,
   "metadata": {},
   "outputs": [],
   "source": [
    "# list indexing\n",
    "print(x[0], ' - ', x[1], ' - ', x[2])"
   ]
  },
  {
   "cell_type": "code",
   "execution_count": null,
   "metadata": {},
   "outputs": [],
   "source": [
    "# types within lists\n",
    "print(type(x[0]))"
   ]
  },
  {
   "cell_type": "code",
   "execution_count": null,
   "metadata": {},
   "outputs": [],
   "source": [
    "for elmt in x:\n",
    "    print(elmt)"
   ]
  },
  {
   "cell_type": "code",
   "execution_count": null,
   "metadata": {},
   "outputs": [],
   "source": [
    "for elmt in y:\n",
    "    print(elmt+10)"
   ]
  },
  {
   "cell_type": "code",
   "execution_count": null,
   "metadata": {},
   "outputs": [],
   "source": [
    "# grab last two elements\n",
    "c = [1,2,3,4,5,6]\n",
    "print(c[-2:])"
   ]
  },
  {
   "cell_type": "code",
   "execution_count": null,
   "metadata": {},
   "outputs": [],
   "source": [
    "# grab first two elements\n",
    "c = [1,2,3,4,5,6]\n",
    "print(c[2:])"
   ]
  },
  {
   "cell_type": "code",
   "execution_count": null,
   "metadata": {},
   "outputs": [],
   "source": [
    "# grab middle two elements\n",
    "c = [1,2,3,4,5,6]\n",
    "print(c[2:-2])"
   ]
  },
  {
   "cell_type": "markdown",
   "metadata": {},
   "source": [
    "#### Objects"
   ]
  },
  {
   "cell_type": "code",
   "execution_count": null,
   "metadata": {},
   "outputs": [],
   "source": [
    "\n",
    "t = Turtle()"
   ]
  },
  {
   "cell_type": "code",
   "execution_count": null,
   "metadata": {},
   "outputs": [],
   "source": [
    "# *** go forward ***\n",
    "t.forward(100)"
   ]
  },
  {
   "cell_type": "code",
   "execution_count": null,
   "metadata": {},
   "outputs": [],
   "source": [
    "# *** turning\n",
    "t.right(90)"
   ]
  },
  {
   "cell_type": "code",
   "execution_count": null,
   "metadata": {},
   "outputs": [],
   "source": [
    "# *** turning left ***\n",
    "t.left(90)"
   ]
  },
  {
   "cell_type": "code",
   "execution_count": null,
   "metadata": {},
   "outputs": [],
   "source": [
    "# *** turning (dgrees) ***\n",
    "t.left(90)\n",
    "t.left(150)"
   ]
  },
  {
   "cell_type": "code",
   "execution_count": null,
   "metadata": {},
   "outputs": [],
   "source": []
  },
  {
   "cell_type": "markdown",
   "metadata": {},
   "source": [
    "### Reset and Make a House!"
   ]
  },
  {
   "cell_type": "code",
   "execution_count": null,
   "metadata": {},
   "outputs": [],
   "source": [
    "t = Turtle()"
   ]
  },
  {
   "cell_type": "code",
   "execution_count": null,
   "metadata": {},
   "outputs": [],
   "source": [
    "# Make a square\n",
    "t.forward(100)          # move forward by 100 units\n",
    "t.right(90)             # turn right by 90 degrees\n",
    "t.forward(100)          # move forward by 100 units\n",
    "t.right(90)             # turn right by 90 degrees\n",
    "t.forward(100)          # move forward by 100 units\n",
    "t.right(90)             # turn right by 90 degrees\n",
    "t.forward(100)          # move forward by 100 units\n",
    "\n",
    "# Position for roof\n",
    "t.right(45)\n",
    "\n",
    "# # Make a roof\n",
    "t.forward(70)          # move forward by 100 units\n",
    "t.right(90)           # turn right by 45 degrees\n",
    "t.forward(70)          # move forward by 100 units\n",
    "\n"
   ]
  },
  {
   "cell_type": "code",
   "execution_count": null,
   "metadata": {},
   "outputs": [],
   "source": []
  },
  {
   "cell_type": "markdown",
   "metadata": {},
   "source": [
    "### Reset and Make Letters!"
   ]
  },
  {
   "cell_type": "code",
   "execution_count": null,
   "metadata": {},
   "outputs": [],
   "source": [
    "t.reset()"
   ]
  },
  {
   "cell_type": "markdown",
   "metadata": {},
   "source": [
    "You can draw a block style U with a turtle. Can you draw more than one letter? You would have to use the penup() procedure to pick up the pen and then move to the new location to draw the second letter and then put the pen down using pendown() as shown in the example below."
   ]
  },
  {
   "cell_type": "code",
   "execution_count": null,
   "metadata": {},
   "outputs": [],
   "source": [
    "#from turtle import *  # use the turtle library\n",
    "#space = Screen()      # create a turtle space\n",
    "t = Turtle()         # create a turtle named ji\n",
    "t.right(180)         # turn right by 180 degrees\n",
    "t.forward(75)        # move forward by 75 units\n",
    "t.right(90)          # turn right 90 degrees\n",
    "t.forward(100)       # more forward by 90 units\n",
    "t.right(90)          # turn right 90 degrees\n",
    "t.forward(75)        # move forward by 75 units\n",
    "\n",
    "# *** write and 'M' above the \"U\"\n",
    "\n",
    "t.penup()            # pick up the pen\n",
    "t.forward(50)        # move forward 50 units\n",
    "t.pendown()          # put the pen down\n",
    "t.left(0)          # turn right 90 degrees\n",
    "t.forward(75)       # go forward 100 units\n",
    "t.right(90)           # turn left 90 degrees\n",
    "t.forward(50)        # go forward 75 units\n",
    "t.right(90)\n",
    "t.forward(75)\n",
    "t.right(180)\n",
    "t.forward(75)\n",
    "t.right(90)           # turn left 90 degrees\n",
    "t.forward(50)        # go forward 75 units\n",
    "t.right(90)\n",
    "t.forward(75)\n",
    "\n",
    "\n"
   ]
  },
  {
   "cell_type": "code",
   "execution_count": null,
   "metadata": {},
   "outputs": [],
   "source": []
  },
  {
   "cell_type": "markdown",
   "metadata": {},
   "source": [
    "### Reset and Make Shapes!"
   ]
  },
  {
   "cell_type": "code",
   "execution_count": null,
   "metadata": {},
   "outputs": [],
   "source": [
    "t = Turtle()"
   ]
  },
  {
   "cell_type": "markdown",
   "metadata": {},
   "source": [
    "The program below uses the goto(x,y) to move to the top left corner before drawing a square that nearly fills the drawing space."
   ]
  },
  {
   "cell_type": "code",
   "execution_count": null,
   "metadata": {},
   "outputs": [],
   "source": [
    "#t.reset()\n",
    "t.penup()           # pick up the pen (don't draw)\n",
    "#t.goto(-150,150)    # go to the top left corner\n",
    "t.pendown()         # put down the pen\n",
    "t.forward(20)      # move forward by 300 pixels\n",
    "t.right(20)         # turn right 90 degrees\n",
    "t.forward(20)      # move forward by 300 pixels\n",
    "t.right(20)         # turn right 90 degrees\n",
    "t.forward(20)      # move forward by 300 pixels\n",
    "t.right(20)         # turn right 90 degrees\n",
    "t.forward(20)      # move forward by 300 pixels\n",
    "t.right(20)         # turn right 90 degrees\n",
    "t.forward(20)      # move forward by 300 pixels\n",
    "t.right(20)         # turn right 90 degrees\n",
    "t.forward(20)      # move forward by 300 pixels\n"
   ]
  },
  {
   "cell_type": "code",
   "execution_count": null,
   "metadata": {},
   "outputs": [],
   "source": []
  },
  {
   "cell_type": "markdown",
   "metadata": {},
   "source": [
    "You can change the color and pensize that you draw with as well."
   ]
  },
  {
   "cell_type": "code",
   "execution_count": null,
   "metadata": {},
   "outputs": [],
   "source": [
    "#pip install turtles"
   ]
  },
  {
   "cell_type": "code",
   "execution_count": null,
   "metadata": {},
   "outputs": [],
   "source": [
    "#pip install mobilechelonian"
   ]
  },
  {
   "cell_type": "code",
   "execution_count": null,
   "metadata": {},
   "outputs": [],
   "source": [
    "from mobilechelonian import Turtle\n",
    "t = Turtle()\n",
    "t.speed(5)\n",
    "\n",
    "# create a list of strings\n",
    "colours=[\"red\",\"blue\",\"yellow\",\"green\"]\n",
    "\n",
    "#t.penup(); t.left(90); t.forward(200);t.right(90);t.pendown()\n",
    "for i in range (0,8):\n",
    "    t.pencolor(colours[i%4])\n",
    "    t.right(90)\n",
    "    t.forward(50)\n",
    "\n",
    "t.right(180)\n",
    "t.home()"
   ]
  },
  {
   "cell_type": "code",
   "execution_count": null,
   "metadata": {},
   "outputs": [],
   "source": [
    "from mobilechelonian import Turtle\n",
    "t = Turtle()\n",
    "t.speed(5)\n",
    "colours=[\"red\",\"blue\",\"yellow\",\"brown\",\"black\",\"purple\",\"green\"]\n",
    "\n",
    "t.penup(); t.left(90); t.forward(200);t.right(90);t.pendown()\n",
    "for i in range (0,18):\n",
    "    t.pencolor(colours[i%7])\n",
    "    t.right(20)\n",
    "    t.forward(50)\n",
    "\n",
    "t.right(180)\n",
    "t.home()"
   ]
  },
  {
   "cell_type": "code",
   "execution_count": null,
   "metadata": {},
   "outputs": [],
   "source": []
  },
  {
   "cell_type": "code",
   "execution_count": null,
   "metadata": {},
   "outputs": [],
   "source": []
  },
  {
   "cell_type": "markdown",
   "metadata": {},
   "source": [
    "## Practice"
   ]
  },
  {
   "cell_type": "markdown",
   "metadata": {},
   "source": [
    "The following example has 4 errors. Can you fix the errors so that the code runs correctly to print a capital L?"
   ]
  },
  {
   "cell_type": "code",
   "execution_count": null,
   "metadata": {},
   "outputs": [],
   "source": [
    "#t = Turtle()\n",
    "t.right(90)        # turn alisha south\n",
    "t.forward          # move forward by 150 units\n",
    "t.left(90)         # turn to face east\n",
    "t.Forward(75)      # move forward by 75 units\n"
   ]
  },
  {
   "cell_type": "code",
   "execution_count": null,
   "metadata": {},
   "outputs": [],
   "source": []
  },
  {
   "cell_type": "markdown",
   "metadata": {},
   "source": [
    "The following example has 4 errors. Can you fix the errors so that the code runs correctly to print a capital C?"
   ]
  },
  {
   "cell_type": "code",
   "execution_count": null,
   "metadata": {},
   "outputs": [],
   "source": [
    "alex = Turtle()\n",
    "alex.left(180)          # turn alex by 180 degrees\n",
    "alex.forward(75)        # move forward by 75 units\n",
    "alex.turn(90)           # turn left 90 degrees\n",
    "alex.forward(100)       # more forward by 100 units\n",
    "alex.left(90)           # turn left 90 degrees\n",
    "alex.forward            # move forward by 75 units"
   ]
  },
  {
   "cell_type": "code",
   "execution_count": null,
   "metadata": {},
   "outputs": [],
   "source": []
  },
  {
   "cell_type": "markdown",
   "metadata": {},
   "source": [
    "Use the area below to try to draw a letter or number. Use block style rather than curves."
   ]
  },
  {
   "cell_type": "code",
   "execution_count": null,
   "metadata": {},
   "outputs": [],
   "source": [
    "t = Turtle()"
   ]
  },
  {
   "cell_type": "code",
   "execution_count": null,
   "metadata": {},
   "outputs": [],
   "source": []
  },
  {
   "cell_type": "markdown",
   "metadata": {},
   "source": [
    "#### Bonu: Make your own house!"
   ]
  },
  {
   "cell_type": "code",
   "execution_count": null,
   "metadata": {},
   "outputs": [],
   "source": [
    "t = Turtle()"
   ]
  },
  {
   "cell_type": "code",
   "execution_count": null,
   "metadata": {},
   "outputs": [],
   "source": []
  }
 ],
 "metadata": {
  "hide_input": false,
  "kernelspec": {
   "display_name": "Python 3",
   "language": "python",
   "name": "python3"
  },
  "language_info": {
   "codemirror_mode": {
    "name": "ipython",
    "version": 3
   },
   "file_extension": ".py",
   "mimetype": "text/x-python",
   "name": "python",
   "nbconvert_exporter": "python",
   "pygments_lexer": "ipython3",
   "version": "3.7.3"
  },
  "toc": {
   "base_numbering": 1,
   "nav_menu": {},
   "number_sections": true,
   "sideBar": true,
   "skip_h1_title": false,
   "title_cell": "Table of Contents",
   "title_sidebar": "Contents",
   "toc_cell": false,
   "toc_position": {},
   "toc_section_display": true,
   "toc_window_display": false
  },
  "varInspector": {
   "cols": {
    "lenName": 16,
    "lenType": 16,
    "lenVar": 40
   },
   "kernels_config": {
    "python": {
     "delete_cmd_postfix": "",
     "delete_cmd_prefix": "del ",
     "library": "var_list.py",
     "varRefreshCmd": "print(var_dic_list())"
    },
    "r": {
     "delete_cmd_postfix": ") ",
     "delete_cmd_prefix": "rm(",
     "library": "var_list.r",
     "varRefreshCmd": "cat(var_dic_list()) "
    }
   },
   "types_to_exclude": [
    "module",
    "function",
    "builtin_function_or_method",
    "instance",
    "_Feature"
   ],
   "window_display": false
  }
 },
 "nbformat": 4,
 "nbformat_minor": 4
}
